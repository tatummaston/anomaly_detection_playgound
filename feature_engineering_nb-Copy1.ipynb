{
 "cells": [
  {
   "cell_type": "markdown",
   "metadata": {},
   "source": [
    "## todo:\n",
    "- look at interpacket modes: look in sequence, look at only 0ms interpacket times then when the next 0ms interpacket arival times, filter the 1->2 2->1\n",
    "- detection not based on latency and loss encouraged\n",
    "### links:\n",
    "- https://ggplot2.tidyverse.org/reference/ggplot.html\n",
    "- https://plotnine.readthedocs.io/en/stable/\n",
    "- https://ggplot2.tidyverse.org/reference/geom_density.html"
   ]
  },
  {
   "cell_type": "code",
   "execution_count": 1,
   "metadata": {},
   "outputs": [],
   "source": [
    "import pandas as pd\n",
    "import matplotlib.pyplot as plt\n",
    "import os\n",
    "import numpy as np\n",
    "import seaborn as sns\n",
    "from sklearn.cluster import DBSCAN, MeanShift\n",
    "import scipy.stats as stats\n",
    "from collections import Counter\n",
    "import scipy\n",
    "\n",
    "from os.path import isfile, join, expanduser\n",
    "from os import listdir, remove\n",
    "from numpy.fft import fft, ifft, fft2, ifft2, fftshift"
   ]
  },
  {
   "cell_type": "code",
   "execution_count": 2,
   "metadata": {},
   "outputs": [
    {
     "data": {
      "text/plain": [
       "['../eda\\\\losslog-50-2500-true-100-1000.csv',\n",
       " '../eda\\\\losslog-50-2500-true-100-1250.csv',\n",
       " '../eda\\\\losslog-50-2500-true-100-500.csv',\n",
       " '../eda\\\\losslog-50-2500-true-150-1000.csv']"
      ]
     },
     "execution_count": 2,
     "metadata": {},
     "output_type": "execute_result"
    }
   ],
   "source": [
    "# create 2 folders one containing all the loss logs and another containing only the data\n",
    "# for loss logs\n",
    "raw_data_path = '../eda'\n",
    "raw_files_loss = [join(raw_data_path, f) for f in listdir(raw_data_path)]\n",
    "raw_files_loss[:4]"
   ]
  },
  {
   "cell_type": "code",
   "execution_count": 3,
   "metadata": {},
   "outputs": [
    {
     "data": {
      "text/plain": [
       "['../not_loss_logs\\\\20220110T225728_50-25000-false-50-5000-iperf.csv',\n",
       " '../not_loss_logs\\\\20220110T225729_50-25000-true-50-5000-iperf.csv',\n",
       " '../not_loss_logs\\\\20220110T230749_50-25000-false-50-15000-iperf.csv',\n",
       " '../not_loss_logs\\\\20220110T230749_50-25000-true-50-15000-iperf.csv']"
      ]
     },
     "execution_count": 3,
     "metadata": {},
     "output_type": "execute_result"
    }
   ],
   "source": [
    "# for data\n",
    "raw_data_path = '../not_loss_logs'\n",
    "raw_files = [join(raw_data_path, f) for f in listdir(raw_data_path)]\n",
    "raw_files[:4]"
   ]
  },
  {
   "cell_type": "code",
   "execution_count": 4,
   "metadata": {},
   "outputs": [
    {
     "name": "stdout",
     "output_type": "stream",
     "text": [
      "['50', '25000', 'false', '50', '5000', 'iperf.csv']\n",
      "['50', '25000', 'true', '50', '5000', 'iperf.csv']\n",
      "['50', '25000', 'false', '50', '15000', 'iperf.csv']\n",
      "['50', '25000', 'true', '50', '15000', 'iperf.csv']\n",
      "['50', '25000', 'true', '500', '25000', 'iperf.csv']\n",
      "['50', '25000', 'false', '500', '25000', 'iperf.csv']\n",
      "['50', '25000', 'false', '250', '25000', 'iperf.csv']\n",
      "['50', '25000', 'true', '250', '25000', 'iperf.csv']\n",
      "['50', '5000', 'true', '100', '1000', 'iperf.csv']\n",
      "['50', '5000', 'true', '50', '1000', 'iperf.csv']\n",
      "['50', '5000', 'true', '150', '1000', 'iperf.csv']\n",
      "['50', '5000', 'true', '200', '1000', 'iperf.csv']\n",
      "['50', '5000', 'true', '250', '1000', 'iperf.csv']\n",
      "['50', '5000', 'true', '300', '1000', 'iperf.csv']\n",
      "['50', '5000', 'true', '100', '1500', 'iperf.csv']\n",
      "['50', '5000', 'true', '50', '1500', 'iperf.csv']\n",
      "['50', '5000', 'true', '150', '1500', 'iperf.csv']\n",
      "['50', '5000', 'true', '200', '1500', 'iperf.csv']\n",
      "['50', '5000', 'true', '250', '1500', 'iperf.csv']\n",
      "['50', '5000', 'true', '300', '1500', 'iperf.csv']\n",
      "['50', '5000', 'true', '50', '2000', 'iperf.csv']\n",
      "['50', '5000', 'true', '100', '2000', 'iperf.csv']\n",
      "['50', '5000', 'true', '150', '2000', 'iperf.csv']\n",
      "['50', '5000', 'true', '200', '2000', 'iperf.csv']\n",
      "['50', '5000', 'true', '250', '2000', 'iperf.csv']\n",
      "['50', '5000', 'true', '300', '2000', 'iperf.csv']\n",
      "['50', '5000', 'true', '100', '2500', 'iperf.csv']\n",
      "['50', '5000', 'true', '50', '2500', 'iperf.csv']\n",
      "['50', '5000', 'true', '200', '2500', 'iperf.csv']\n",
      "['50', '5000', 'true', '150', '2500', 'iperf.csv']\n",
      "['50', '5000', 'true', '250', '2500', 'iperf.csv']\n",
      "['50', '5000', 'true', '300', '2500', 'iperf.csv']\n",
      "['50', '2500', 'true', '100', '500', 'iperf.csv']\n",
      "['50', '2500', 'true', '50', '500', 'iperf.csv']\n",
      "['50', '2500', 'true', '150', '500', 'iperf.csv']\n",
      "['50', '2500', 'true', '200', '500', 'iperf.csv']\n",
      "['50', '2500', 'true', '250', '500', 'iperf.csv']\n",
      "['50', '2500', 'true', '300', '500', 'iperf.csv']\n",
      "['50', '2500', 'true', '100', '1000', 'iperf.csv']\n",
      "['50', '2500', 'true', '50', '1000', 'iperf.csv']\n",
      "['50', '2500', 'true', '150', '1000', 'iperf.csv']\n",
      "['50', '2500', 'true', '200', '1000', 'iperf.csv']\n",
      "['50', '2500', 'true', '250', '1000', 'iperf.csv']\n",
      "['50', '2500', 'true', '300', '1000', 'iperf.csv']\n",
      "['50', '2500', 'true', '50', '1250', 'iperf.csv']\n",
      "['50', '2500', 'true', '100', '1250', 'iperf.csv']\n",
      "['50', '2500', 'true', '150', '1250', 'iperf.csv']\n",
      "['50', '2500', 'true', '200', '1250', 'iperf.csv']\n",
      "['50', '2500', 'true', '250', '1250', 'iperf.csv']\n",
      "['50', '2500', 'true', '300', '1250', 'iperf.csv']\n"
     ]
    }
   ],
   "source": [
    "# filenames is a dictionary associating filenames for loss logs and raw data with the conditions used to generate them\n",
    "\n",
    "metrics = []\n",
    "losslog = []\n",
    "filenames = {}\n",
    "for file in raw_files:\n",
    "    labels = file.split('_')[-1].split('-')\n",
    "    print(labels)\n",
    "    metrics = metrics + [labels[0] +' '+ labels[1] +' '+ labels[3]+' '+labels[4]+' '+labels[2]]\n",
    "    filenames[labels[0] +' '+ labels[1] +' '+ labels[3]+' '+labels[4]+' '+labels[2]] = [file]\n",
    "    \n",
    "for file in raw_files_loss:\n",
    "    labels = file.split('.')[-2].split('-')\n",
    "    filenames[labels[1] +' '+ labels[2] +' '+ labels[4]+' '+labels[5]+' '+labels[3]] += [file]"
   ]
  },
  {
   "cell_type": "code",
   "execution_count": 5,
   "metadata": {},
   "outputs": [
    {
     "data": {
      "text/plain": [
       "['50 25000 50 5000 false',\n",
       " '50 25000 50 5000 true',\n",
       " '50 25000 50 15000 false',\n",
       " '50 25000 50 15000 true',\n",
       " '50 25000 500 25000 true',\n",
       " '50 25000 500 25000 false',\n",
       " '50 25000 250 25000 false',\n",
       " '50 25000 250 25000 true',\n",
       " '50 5000 100 1000 true',\n",
       " '50 5000 50 1000 true',\n",
       " '50 5000 150 1000 true',\n",
       " '50 5000 200 1000 true',\n",
       " '50 5000 250 1000 true',\n",
       " '50 5000 300 1000 true',\n",
       " '50 5000 100 1500 true',\n",
       " '50 5000 50 1500 true',\n",
       " '50 5000 150 1500 true',\n",
       " '50 5000 200 1500 true',\n",
       " '50 5000 250 1500 true',\n",
       " '50 5000 300 1500 true',\n",
       " '50 5000 50 2000 true',\n",
       " '50 5000 100 2000 true',\n",
       " '50 5000 150 2000 true',\n",
       " '50 5000 200 2000 true',\n",
       " '50 5000 250 2000 true',\n",
       " '50 5000 300 2000 true',\n",
       " '50 5000 100 2500 true',\n",
       " '50 5000 50 2500 true',\n",
       " '50 5000 200 2500 true',\n",
       " '50 5000 150 2500 true',\n",
       " '50 5000 250 2500 true',\n",
       " '50 5000 300 2500 true',\n",
       " '50 2500 100 500 true',\n",
       " '50 2500 50 500 true',\n",
       " '50 2500 150 500 true',\n",
       " '50 2500 200 500 true',\n",
       " '50 2500 250 500 true',\n",
       " '50 2500 300 500 true',\n",
       " '50 2500 100 1000 true',\n",
       " '50 2500 50 1000 true',\n",
       " '50 2500 150 1000 true',\n",
       " '50 2500 200 1000 true',\n",
       " '50 2500 250 1000 true',\n",
       " '50 2500 300 1000 true',\n",
       " '50 2500 50 1250 true',\n",
       " '50 2500 100 1250 true',\n",
       " '50 2500 150 1250 true',\n",
       " '50 2500 200 1250 true',\n",
       " '50 2500 250 1250 true',\n",
       " '50 2500 300 1250 true']"
      ]
     },
     "execution_count": 5,
     "metadata": {},
     "output_type": "execute_result"
    }
   ],
   "source": [
    "metrics"
   ]
  },
  {
   "cell_type": "code",
   "execution_count": 6,
   "metadata": {},
   "outputs": [
    {
     "data": {
      "text/html": [
       "<div>\n",
       "<style scoped>\n",
       "    .dataframe tbody tr th:only-of-type {\n",
       "        vertical-align: middle;\n",
       "    }\n",
       "\n",
       "    .dataframe tbody tr th {\n",
       "        vertical-align: top;\n",
       "    }\n",
       "\n",
       "    .dataframe thead th {\n",
       "        text-align: right;\n",
       "    }\n",
       "</style>\n",
       "<table border=\"1\" class=\"dataframe\">\n",
       "  <thead>\n",
       "    <tr style=\"text-align: right;\">\n",
       "      <th></th>\n",
       "      <th>Time</th>\n",
       "      <th>IP1</th>\n",
       "      <th>Port1</th>\n",
       "      <th>IP2</th>\n",
       "      <th>Port2</th>\n",
       "      <th>Proto</th>\n",
       "      <th>1-&gt;2Bytes</th>\n",
       "      <th>2-&gt;1Bytes</th>\n",
       "      <th>1-&gt;2Pkts</th>\n",
       "      <th>2-&gt;1Pkts</th>\n",
       "      <th>packet_times</th>\n",
       "      <th>packet_sizes</th>\n",
       "      <th>packet_dirs</th>\n",
       "    </tr>\n",
       "  </thead>\n",
       "  <tbody>\n",
       "    <tr>\n",
       "      <th>0</th>\n",
       "      <td>1642559918</td>\n",
       "      <td>172.21.0.3</td>\n",
       "      <td>38844</td>\n",
       "      <td>172.20.0.2</td>\n",
       "      <td>5001</td>\n",
       "      <td>6</td>\n",
       "      <td>3774000</td>\n",
       "      <td>59292</td>\n",
       "      <td>2516</td>\n",
       "      <td>1098</td>\n",
       "      <td>1642559918039;1642559918039;1642559918039;1642...</td>\n",
       "      <td>52;1500;1500;52;1500;1500;1500;52;52;1500;1500...</td>\n",
       "      <td>2;1;1;2;1;1;1;2;2;1;1;1;2;1;1;1;2;2;1;1;1;2;1;...</td>\n",
       "    </tr>\n",
       "    <tr>\n",
       "      <th>1</th>\n",
       "      <td>1642559918</td>\n",
       "      <td>FE80::BC90:13FF:FE8D:12C</td>\n",
       "      <td>0</td>\n",
       "      <td>FF02::2</td>\n",
       "      <td>0</td>\n",
       "      <td>58</td>\n",
       "      <td>56</td>\n",
       "      <td>0</td>\n",
       "      <td>1</td>\n",
       "      <td>0</td>\n",
       "      <td>1642559918604;</td>\n",
       "      <td>56;</td>\n",
       "      <td>1;</td>\n",
       "    </tr>\n",
       "    <tr>\n",
       "      <th>2</th>\n",
       "      <td>1642559919</td>\n",
       "      <td>172.21.0.3</td>\n",
       "      <td>38844</td>\n",
       "      <td>172.20.0.2</td>\n",
       "      <td>5001</td>\n",
       "      <td>6</td>\n",
       "      <td>3483000</td>\n",
       "      <td>56472</td>\n",
       "      <td>2322</td>\n",
       "      <td>1086</td>\n",
       "      <td>1642559919009;1642559919009;1642559919009;1642...</td>\n",
       "      <td>52;1500;1500;52;1500;1500;52;1500;1500;52;1500...</td>\n",
       "      <td>2;1;1;2;1;1;2;1;1;2;1;1;2;1;1;2;1;1;2;1;1;2;1;...</td>\n",
       "    </tr>\n",
       "    <tr>\n",
       "      <th>3</th>\n",
       "      <td>1642559920</td>\n",
       "      <td>172.21.0.3</td>\n",
       "      <td>38844</td>\n",
       "      <td>172.20.0.2</td>\n",
       "      <td>5001</td>\n",
       "      <td>6</td>\n",
       "      <td>3699000</td>\n",
       "      <td>61880</td>\n",
       "      <td>2466</td>\n",
       "      <td>1190</td>\n",
       "      <td>1642559920032;1642559920032;1642559920032;1642...</td>\n",
       "      <td>52;1500;1500;1500;52;1500;1500;1500;52;52;1500...</td>\n",
       "      <td>2;1;1;1;2;1;1;1;2;2;1;1;1;2;1;1;1;2;2;1;1;1;2;...</td>\n",
       "    </tr>\n",
       "    <tr>\n",
       "      <th>4</th>\n",
       "      <td>1642559921</td>\n",
       "      <td>172.21.0.3</td>\n",
       "      <td>38844</td>\n",
       "      <td>172.20.0.2</td>\n",
       "      <td>5001</td>\n",
       "      <td>6</td>\n",
       "      <td>2881500</td>\n",
       "      <td>47892</td>\n",
       "      <td>1921</td>\n",
       "      <td>921</td>\n",
       "      <td>1642559921016;1642559921016;1642559921016;1642...</td>\n",
       "      <td>52;1500;1500;1500;52;1500;1500;52;1500;1500;52...</td>\n",
       "      <td>2;1;1;1;2;1;1;2;1;1;2;1;1;2;2;1;1;1;2;1;1;1;2;...</td>\n",
       "    </tr>\n",
       "  </tbody>\n",
       "</table>\n",
       "</div>"
      ],
      "text/plain": [
       "         Time                       IP1  Port1         IP2  Port2  Proto  \\\n",
       "0  1642559918                172.21.0.3  38844  172.20.0.2   5001      6   \n",
       "1  1642559918  FE80::BC90:13FF:FE8D:12C      0     FF02::2      0     58   \n",
       "2  1642559919                172.21.0.3  38844  172.20.0.2   5001      6   \n",
       "3  1642559920                172.21.0.3  38844  172.20.0.2   5001      6   \n",
       "4  1642559921                172.21.0.3  38844  172.20.0.2   5001      6   \n",
       "\n",
       "   1->2Bytes  2->1Bytes  1->2Pkts  2->1Pkts  \\\n",
       "0    3774000      59292      2516      1098   \n",
       "1         56          0         1         0   \n",
       "2    3483000      56472      2322      1086   \n",
       "3    3699000      61880      2466      1190   \n",
       "4    2881500      47892      1921       921   \n",
       "\n",
       "                                        packet_times  \\\n",
       "0  1642559918039;1642559918039;1642559918039;1642...   \n",
       "1                                     1642559918604;   \n",
       "2  1642559919009;1642559919009;1642559919009;1642...   \n",
       "3  1642559920032;1642559920032;1642559920032;1642...   \n",
       "4  1642559921016;1642559921016;1642559921016;1642...   \n",
       "\n",
       "                                        packet_sizes  \\\n",
       "0  52;1500;1500;52;1500;1500;1500;52;52;1500;1500...   \n",
       "1                                                56;   \n",
       "2  52;1500;1500;52;1500;1500;52;1500;1500;52;1500...   \n",
       "3  52;1500;1500;1500;52;1500;1500;1500;52;52;1500...   \n",
       "4  52;1500;1500;1500;52;1500;1500;52;1500;1500;52...   \n",
       "\n",
       "                                         packet_dirs  \n",
       "0  2;1;1;2;1;1;1;2;2;1;1;1;2;1;1;1;2;2;1;1;1;2;1;...  \n",
       "1                                                 1;  \n",
       "2  2;1;1;2;1;1;2;1;1;2;1;1;2;1;1;2;1;1;2;1;1;2;1;...  \n",
       "3  2;1;1;1;2;1;1;1;2;2;1;1;1;2;1;1;1;2;2;1;1;1;2;...  \n",
       "4  2;1;1;1;2;1;1;2;1;1;2;1;1;2;2;1;1;1;2;1;1;1;2;...  "
      ]
     },
     "execution_count": 6,
     "metadata": {},
     "output_type": "execute_result"
    }
   ],
   "source": [
    "f = filenames['50 5000 50 1000 true'][0]\n",
    "data_drop = pd.read_csv(f)\n",
    "data_drop.head()"
   ]
  },
  {
   "cell_type": "code",
   "execution_count": 7,
   "metadata": {},
   "outputs": [
    {
     "data": {
      "text/html": [
       "<div>\n",
       "<style scoped>\n",
       "    .dataframe tbody tr th:only-of-type {\n",
       "        vertical-align: middle;\n",
       "    }\n",
       "\n",
       "    .dataframe tbody tr th {\n",
       "        vertical-align: top;\n",
       "    }\n",
       "\n",
       "    .dataframe thead th {\n",
       "        text-align: right;\n",
       "    }\n",
       "</style>\n",
       "<table border=\"1\" class=\"dataframe\">\n",
       "  <thead>\n",
       "    <tr style=\"text-align: right;\">\n",
       "      <th></th>\n",
       "      <th>drop</th>\n",
       "      <th>Time</th>\n",
       "      <th>IP1</th>\n",
       "      <th>Port1</th>\n",
       "      <th>IP2</th>\n",
       "      <th>Port2</th>\n",
       "      <th>?</th>\n",
       "    </tr>\n",
       "  </thead>\n",
       "  <tbody>\n",
       "    <tr>\n",
       "      <th>0</th>\n",
       "      <td>drop</td>\n",
       "      <td>1.642560e+09</td>\n",
       "      <td>172.20.0.2</td>\n",
       "      <td>5001</td>\n",
       "      <td>172.21.0.3</td>\n",
       "      <td>38844</td>\n",
       "      <td>6</td>\n",
       "    </tr>\n",
       "    <tr>\n",
       "      <th>1</th>\n",
       "      <td>drop</td>\n",
       "      <td>1.642560e+09</td>\n",
       "      <td>172.21.0.3</td>\n",
       "      <td>38844</td>\n",
       "      <td>172.20.0.2</td>\n",
       "      <td>5001</td>\n",
       "      <td>6</td>\n",
       "    </tr>\n",
       "    <tr>\n",
       "      <th>2</th>\n",
       "      <td>drop</td>\n",
       "      <td>1.642560e+09</td>\n",
       "      <td>172.21.0.3</td>\n",
       "      <td>38844</td>\n",
       "      <td>172.20.0.2</td>\n",
       "      <td>5001</td>\n",
       "      <td>6</td>\n",
       "    </tr>\n",
       "    <tr>\n",
       "      <th>3</th>\n",
       "      <td>drop</td>\n",
       "      <td>1.642560e+09</td>\n",
       "      <td>172.20.0.2</td>\n",
       "      <td>5001</td>\n",
       "      <td>172.21.0.3</td>\n",
       "      <td>38844</td>\n",
       "      <td>6</td>\n",
       "    </tr>\n",
       "    <tr>\n",
       "      <th>4</th>\n",
       "      <td>drop</td>\n",
       "      <td>1.642560e+09</td>\n",
       "      <td>172.21.0.3</td>\n",
       "      <td>38844</td>\n",
       "      <td>172.20.0.2</td>\n",
       "      <td>5001</td>\n",
       "      <td>6</td>\n",
       "    </tr>\n",
       "  </tbody>\n",
       "</table>\n",
       "</div>"
      ],
      "text/plain": [
       "   drop          Time         IP1  Port1         IP2  Port2  ?\n",
       "0  drop  1.642560e+09  172.20.0.2   5001  172.21.0.3  38844  6\n",
       "1  drop  1.642560e+09  172.21.0.3  38844  172.20.0.2   5001  6\n",
       "2  drop  1.642560e+09  172.21.0.3  38844  172.20.0.2   5001  6\n",
       "3  drop  1.642560e+09  172.20.0.2   5001  172.21.0.3  38844  6\n",
       "4  drop  1.642560e+09  172.21.0.3  38844  172.20.0.2   5001  6"
      ]
     },
     "execution_count": 7,
     "metadata": {},
     "output_type": "execute_result"
    }
   ],
   "source": [
    "f = filenames['50 5000 50 1000 true'][1]\n",
    "data_drop = pd.read_csv(f, header=None)\n",
    "data_drop.columns = ['drop', 'Time', 'IP1', 'Port1', 'IP2', 'Port2', '?']\n",
    "data_drop.head()"
   ]
  },
  {
   "cell_type": "code",
   "execution_count": 8,
   "metadata": {},
   "outputs": [],
   "source": [
    "def clean_df(df):\n",
    "    GROUP_INTERVAL = 10\n",
    "    '''\n",
    "    removes unnecessary connections from data and\n",
    "    removes initial peak from dataset\n",
    "    '''\n",
    "    # df_cleaned = df[df['Proto'] == df['Proto'].mode()[0]]\n",
    "    df_cleaned = df[df['IP1'] == df['IP1'].mode()[0]] \n",
    "\n",
    "    df_cleaned['group'] = df_cleaned['Time'].astype(int)//GROUP_INTERVAL # generates 10 second groupings of the data.\n",
    "    \n",
    "    timefilter = np.sort(df_cleaned['group'].unique())[3:] # takes out first thirty seconds from dataset\n",
    "    #df_cleaned = df_cleaned[df_cleaned['group'].isin(timefilter)] # comment out to include initial peak\n",
    "    df_cleaned.drop(columns='group', inplace=True)\n",
    "\n",
    "    return df_cleaned"
   ]
  },
  {
   "cell_type": "code",
   "execution_count": 119,
   "metadata": {},
   "outputs": [
    {
     "name": "stderr",
     "output_type": "stream",
     "text": [
      "<ipython-input-8-2c46867b5383>:10: SettingWithCopyWarning: \n",
      "A value is trying to be set on a copy of a slice from a DataFrame.\n",
      "Try using .loc[row_indexer,col_indexer] = value instead\n",
      "\n",
      "See the caveats in the documentation: https://pandas.pydata.org/pandas-docs/stable/user_guide/indexing.html#returning-a-view-versus-a-copy\n",
      "  df_cleaned['group'] = df_cleaned['Time'].astype(int)//GROUP_INTERVAL # generates 10 second groupings of the data.\n",
      "c:\\users\\19093\\appdata\\local\\programs\\python\\python38-32\\lib\\site-packages\\pandas\\core\\frame.py:3990: SettingWithCopyWarning: \n",
      "A value is trying to be set on a copy of a slice from a DataFrame\n",
      "\n",
      "See the caveats in the documentation: https://pandas.pydata.org/pandas-docs/stable/user_guide/indexing.html#returning-a-view-versus-a-copy\n",
      "  return super().drop(\n"
     ]
    },
    {
     "data": {
      "text/plain": [
       "Text(0.5, 0, 'time')"
      ]
     },
     "execution_count": 119,
     "metadata": {},
     "output_type": "execute_result"
    },
    {
     "data": {
      "image/png": "[encoded data removed]",
      "text/plain": [
       "<Figure size 432x288 with 1 Axes>"
      ]
     },
     "metadata": {
      "needs_background": "light"
     },
     "output_type": "display_data"
    }
   ],
   "source": [
    "conditions = '50 2500 200 1000 true'\n",
    "f = filenames[conditions][0]\n",
    "f_drop = filenames[conditions][1]\n",
    "data = pd.read_csv(f)\n",
    "data_drop = pd.read_csv(f_drop, header=None)\n",
    "data_drop.columns = ['drop', 'Time', 'IP1', 'Port1', 'IP2', 'Port2', '?']\n",
    "clean = clean_df(data)\n",
    "plt.plot(clean['1->2Pkts'])\n",
    "\n",
    "port = data_drop['Port1']\n",
    "time = data_drop['Time'] - data['Time'].min()\n",
    "max_pkts = clean['1->2Pkts'].max()\n",
    "\n",
    "for i in range(len(time)):\n",
    "    # confirmation (computer 2)\n",
    "    if port[i] == 5001:\n",
    "        plt.vlines(time[i], 0, max_pkts / 15, colors='C1')\n",
    "        pass\n",
    "    # data (computer 1)\n",
    "    else:\n",
    "        plt.vlines(time[i], 0, max_pkts / 15, colors='C2')\n",
    "        pass\n",
    "        \n",
    "plt.title(f'packets per second, conditions: {conditions}')\n",
    "plt.ylabel('packets per second')\n",
    "plt.xlabel('time')"
   ]
  },
  {
   "cell_type": "code",
   "execution_count": 120,
   "metadata": {},
   "outputs": [],
   "source": [
    "def interpacket_var(stri, dirs):\n",
    "    row = stri.split(';')\n",
    "    direction = dirs.split(';')\n",
    "    direction = np.array(row[:-1]).astype(np.int)\n",
    "    times = np.array(row[:-1]).astype(np.float)\n",
    "    times = times - times[0]\n",
    "    times = times[direction == 1]\n",
    "    diff = np.diff(times)\n",
    "    return np.std(diff)"
   ]
  },
  {
   "cell_type": "code",
   "execution_count": 190,
   "metadata": {
    "scrolled": true
   },
   "outputs": [
    {
     "name": "stderr",
     "output_type": "stream",
     "text": [
      "<ipython-input-8-2c46867b5383>:10: SettingWithCopyWarning: \n",
      "A value is trying to be set on a copy of a slice from a DataFrame.\n",
      "Try using .loc[row_indexer,col_indexer] = value instead\n",
      "\n",
      "See the caveats in the documentation: https://pandas.pydata.org/pandas-docs/stable/user_guide/indexing.html#returning-a-view-versus-a-copy\n",
      "  df_cleaned['group'] = df_cleaned['Time'].astype(int)//GROUP_INTERVAL # generates 10 second groupings of the data.\n",
      "c:\\users\\19093\\appdata\\local\\programs\\python\\python38-32\\lib\\site-packages\\pandas\\core\\frame.py:3990: SettingWithCopyWarning: \n",
      "A value is trying to be set on a copy of a slice from a DataFrame\n",
      "\n",
      "See the caveats in the documentation: https://pandas.pydata.org/pandas-docs/stable/user_guide/indexing.html#returning-a-view-versus-a-copy\n",
      "  return super().drop(\n"
     ]
    },
    {
     "data": {
      "text/plain": [
       "<matplotlib.legend.Legend at 0x25e92da8>"
      ]
     },
     "execution_count": 190,
     "metadata": {},
     "output_type": "execute_result"
    },
    {
     "data": {
      "image/png": "[encoded data removed]",
      "text/plain": [
       "<Figure size 432x288 with 1 Axes>"
      ]
     },
     "metadata": {
      "needs_background": "light"
     },
     "output_type": "display_data"
    }
   ],
   "source": [
    "# Median absolute deviation\n",
    "conditions = '50 2500 100 1250 true'\n",
    "f = filenames[conditions][0]\n",
    "f_drop = filenames[conditions][1]\n",
    "data = pd.read_csv(f)\n",
    "data_drop = pd.read_csv(f_drop, header=None)\n",
    "feat = 0\n",
    "\n",
    "clean = clean_df(data)\n",
    "\n",
    "X = np.array(clean['1->2Pkts'])\n",
    "#var = np.vectorize(interpacket_var)(clean['packet_times'])\n",
    "#X = np.array([X,var]).T\n",
    "#data_drop.columns = ['drop', 'Time', 'IP1', 'Port1', 'IP2', 'Port2', '?']\n",
    "\n",
    "stream = pd.DataFrame(np.log(X))\n",
    "\n",
    "mad = lambda x: np.percentile(np.fabs(x - np.percentile(x, 50)), 60)\n",
    "\n",
    "\n",
    "window = 100\n",
    "thresh = 1.5\n",
    "median = []\n",
    "p25 = []\n",
    "p75 = []\n",
    "lower = []\n",
    "upper = []\n",
    "std = []\n",
    "m = []\n",
    "maximum = []\n",
    "stdm = []\n",
    "\n",
    "for i in range(len(X) - window):\n",
    "    subset = X[i:i+window]\n",
    "    median = median + [np.median(subset)]\n",
    "    p25 = p25 + [np.percentile(subset, 25)]\n",
    "    p75 = p75 + [np.percentile(subset, 65)]\n",
    "    lower = lower + [np.median(subset) - thresh*mad(subset)]\n",
    "    upper = upper + [np.median(subset) + thresh*mad(subset)]\n",
    "    std = std + [np.std(subset)]\n",
    "    stdm = stdm + [np.sum((subset-np.median(subset)) ** 2)]\n",
    "    m = m + [mad(subset)]\n",
    "    maximum = maximum + [max(subset)]\n",
    "    if i == 150:\n",
    "        m_210 = np.fabs(subset - np.median(subset))\n",
    "    \n",
    "ind = np.arange(len(X)-window) + window\n",
    "    \n",
    "plt.plot(X,alpha=0.3, label='1->2pkts')\n",
    "plt.plot(ind,median, label='median')\n",
    "plt.plot(ind,p25, label='p25')\n",
    "plt.plot(ind,p75, label='p75')\n",
    "#plt.plot(X.index[(len(X)-len(upper)):],upper, label=f'median + {}')\n",
    "#plt.plot(X.index[(len(X)-len(lower)):],lower)\n",
    "\n",
    "#plt.plot(X.index[(len(X)-len(std)):],std)\n",
    "#plt.plot(X.index[(len(X)-len(m)):],m)\n",
    "\n",
    "plt.vlines(180, 0, max(X), colors='C3')\n",
    "plt.title(f'1->2 packets, conditions: {conditions}')\n",
    "plt.ylabel('packets')\n",
    "plt.xlabel('time')    \n",
    "plt.legend()"
   ]
  },
  {
   "cell_type": "code",
   "execution_count": 191,
   "metadata": {},
   "outputs": [
    {
     "data": {
      "text/plain": [
       "<matplotlib.legend.Legend at 0x219d3dc0>"
      ]
     },
     "execution_count": 191,
     "metadata": {},
     "output_type": "execute_result"
    },
    {
     "data": {
      "image/png": "[encoded data removed]",
      "text/plain": [
       "<Figure size 432x288 with 1 Axes>"
      ]
     },
     "metadata": {
      "needs_background": "light"
     },
     "output_type": "display_data"
    }
   ],
   "source": [
    "m = np.array(m)\n",
    "index = ind\n",
    "da = np.array([m,index]).T\n",
    "\n",
    "plt.plot(index,m, label='MAD')\n",
    "\n",
    "plt.vlines(180, 0, max(m), colors='C3')\n",
    "plt.title(f'MAD, conditions: {conditions}')\n",
    "plt.ylabel('Median Absolute Deviation (1->2pkts)')\n",
    "plt.xlabel('time')    \n",
    "plt.legend()"
   ]
  },
  {
   "cell_type": "code",
   "execution_count": 192,
   "metadata": {
    "scrolled": true
   },
   "outputs": [
    {
     "data": {
      "text/plain": [
       "<matplotlib.legend.Legend at 0x21b3a298>"
      ]
     },
     "execution_count": 192,
     "metadata": {},
     "output_type": "execute_result"
    },
    {
     "data": {
      "image/png": "[encoded data removed]",
      "text/plain": [
       "<Figure size 432x288 with 1 Axes>"
      ]
     },
     "metadata": {
      "needs_background": "light"
     },
     "output_type": "display_data"
    }
   ],
   "source": [
    "m = np.array(m)\n",
    "index = ind\n",
    "da = np.array([m,index]).T\n",
    "\n",
    "plt.plot(index,m*stdm / median, label='MAD')\n",
    "\n",
    "\n",
    "plt.vlines(180, 0, max(m*stdm / median), colors='C3')\n",
    "plt.title(f'MAD, conditions: {conditions}')\n",
    "plt.ylabel('Median Absolute Deviation (1->2pkts)')\n",
    "plt.xlabel('time')    \n",
    "plt.legend()"
   ]
  }
 ],
 "metadata": {
  "hide_input": false,
  "kernelspec": {
   "display_name": "Python 3",
   "language": "python",
   "name": "python3"
  },
  "language_info": {
   "codemirror_mode": {
    "name": "ipython",
    "version": 3
   },
   "file_extension": ".py",
   "mimetype": "text/x-python",
   "name": "python",
   "nbconvert_exporter": "python",
   "pygments_lexer": "ipython3",
   "version": "3.8.1"
  }
 },
 "nbformat": 4,
 "nbformat_minor": 4
}
